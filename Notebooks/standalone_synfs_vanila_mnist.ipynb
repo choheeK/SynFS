{
 "cells": [
  {
   "cell_type": "markdown",
   "metadata": {},
   "source": [
    "# Standalone Notebook for SynFS - Vanila MNIST\n",
    "- horizontal view (3 & 8), wo artificial bias\n"
   ]
  },
  {
   "cell_type": "code",
   "execution_count": 1,
   "metadata": {},
   "outputs": [
    {
     "name": "stderr",
     "output_type": "stream",
     "text": [
      "/home/chkim/anaconda3/envs/synergy/lib/python3.9/site-packages/tqdm/auto.py:21: TqdmWarning: IProgress not found. Please update jupyter and ipywidgets. See https://ipywidgets.readthedocs.io/en/stable/user_install.html\n",
      "  from .autonotebook import tqdm as notebook_tqdm\n"
     ]
    }
   ],
   "source": [
    "import numpy as np \n",
    "from sklearn.model_selection import train_test_split\n",
    "from sklearn.metrics import roc_auc_score, average_precision_score, accuracy_score, f1_score\n",
    "import torch \n",
    "import torch.nn as nn \n",
    "from torch.utils.data import Dataset, DataLoader\n",
    "import math\n",
    "from functools import reduce\n",
    "from sklearn.preprocessing import StandardScaler\n",
    "import matplotlib.pyplot as plt\n",
    "\n",
    "#mnist\n",
    "from torchvision import datasets, transforms"
   ]
  },
  {
   "cell_type": "code",
   "execution_count": 2,
   "metadata": {},
   "outputs": [],
   "source": [
    "device = 'cuda' if torch.cuda.is_available() else 'cpu'"
   ]
  },
  {
   "cell_type": "code",
   "execution_count": 3,
   "metadata": {},
   "outputs": [],
   "source": [
    "config = {\n",
    "      \"views_dims\": [392, 392],\n",
    "      \"hidden_dims\": [400, 200, 300], \n",
    "      \"s_lam\": 0.4,\n",
    "      \"n_lam\": 4,\n",
    "      \"alpha\": 0.09,\n",
    "      \"learning_rate\": 0.001, \n",
    "      \"s_learning_rate\":0.002,\n",
    "      \"batch_size\": 250, \n",
    "      \"weight_decay\": 1e-4,\n",
    "      \"epochs\": 100}"
   ]
  },
  {
   "cell_type": "code",
   "execution_count": 4,
   "metadata": {},
   "outputs": [],
   "source": [
    "top_k = 28"
   ]
  },
  {
   "cell_type": "code",
   "execution_count": 5,
   "metadata": {},
   "outputs": [],
   "source": [
    "train_set_raw = datasets.MNIST(\n",
    "    root = '/mnt/storage/personal/chkim/MNIST',\n",
    "    train = True,\n",
    "    download = True,\n",
    "    transform = transforms.Compose([\n",
    "        transforms.ToTensor(),\n",
    "    ])\n",
    ")\n",
    "test_set_raw = datasets.MNIST(\n",
    "    root = '/mnt/storage/personal/chkim/MNIST',\n",
    "    train = False,\n",
    "    download = True,\n",
    "    transform = transforms.Compose([\n",
    "        transforms.ToTensor(),\n",
    "    ])\n",
    ")\n"
   ]
  },
  {
   "cell_type": "code",
   "execution_count": 6,
   "metadata": {},
   "outputs": [],
   "source": [
    "def filter_data(train_set_raw, test_set_raw, label1, label2):\n",
    "    \"\"\"\n",
    "    label1 :3\n",
    "    lebel2 : 8\n",
    "    \"\"\"\n",
    "    train_set = list(filter(lambda i: i[1] == int(label1) or i[1]== int(label2) , train_set_raw))  # train_set_raw (image, number_label)\n",
    "    test_set = list(filter(lambda i: i[1] == int(label1) or i[1]==int(label2) , test_set_raw))\n",
    "    return train_set, test_set"
   ]
  },
  {
   "cell_type": "code",
   "execution_count": 7,
   "metadata": {},
   "outputs": [],
   "source": [
    "train_set, test_set = filter_data(train_set_raw, test_set_raw, 3,8)"
   ]
  },
  {
   "cell_type": "code",
   "execution_count": 8,
   "metadata": {},
   "outputs": [
    {
     "data": {
      "text/plain": [
       "<matplotlib.image.AxesImage at 0x7fc4c06bfd90>"
      ]
     },
     "execution_count": 8,
     "metadata": {},
     "output_type": "execute_result"
    },
    {
     "data": {
      "image/png": "[encoded data removed]",
      "text/plain": [
       "<Figure size 640x480 with 3 Axes>"
      ]
     },
     "metadata": {},
     "output_type": "display_data"
    }
   ],
   "source": [
    "fig, axes = plt.subplots(1,3)\n",
    "axes[0].imshow(train_set[0][0].reshape(28,28))\n",
    "axes[1].imshow(train_set[0][0][:,:14,:].reshape(14,28))  # horizontal view \n",
    "axes[2].imshow(train_set[0][0][:,:,:14].reshape(28,14))  \n"
   ]
  },
  {
   "cell_type": "code",
   "execution_count": 9,
   "metadata": {},
   "outputs": [],
   "source": [
    "def mnist_2_views_maker(data_set, label1, label2):\n",
    "    \"\"\"\n",
    "    make mnist to two view dataset (vertically slice the image)\n",
    "    return type ([view1,view2],label), view1 = (n, features)\n",
    "    label1 :3 \n",
    "    label2 :8\n",
    "    \"\"\"\n",
    "    view1 = []\n",
    "    view2 = []\n",
    "    labels = []\n",
    "    for i in range(len(data_set)): \n",
    "        if data_set[i][1]==int(label1):\n",
    "            view1.append(data_set[i][0][:,:14,:].flatten())\n",
    "            view2.append(data_set[i][0][:,14:,:].flatten())\n",
    "            labels.append(0)\n",
    "\n",
    "        elif data_set[i][1]==int(label2):\n",
    "            view1.append(data_set[i][0][:,:14,:].flatten())\n",
    "            view2.append(data_set[i][0][:,14:,:].flatten())\n",
    "            labels.append(1)\n",
    "        \n",
    "        else :\n",
    "            pass\n",
    "    data = ([np.stack(view1, axis=0), np.stack(view2, axis=0)],np.array(labels))\n",
    "    return data \n"
   ]
  },
  {
   "cell_type": "code",
   "execution_count": 10,
   "metadata": {},
   "outputs": [],
   "source": [
    "train_data = mnist_2_views_maker(train_set, 3, 8)\n",
    "test_data = mnist_2_views_maker(test_set, 3, 8)"
   ]
  },
  {
   "cell_type": "code",
   "execution_count": 11,
   "metadata": {},
   "outputs": [
    {
     "data": {
      "text/plain": [
       "(array([0, 1]), array([6131, 5851]))"
      ]
     },
     "execution_count": 11,
     "metadata": {},
     "output_type": "execute_result"
    }
   ],
   "source": [
    "np.unique(train_data[1], return_counts=True)"
   ]
  },
  {
   "cell_type": "code",
   "execution_count": 12,
   "metadata": {},
   "outputs": [
    {
     "name": "stdout",
     "output_type": "stream",
     "text": [
      "1315\n"
     ]
    },
    {
     "data": {
      "image/png": "[encoded data removed]",
      "text/plain": [
       "<Figure size 1000x600 with 4 Axes>"
      ]
     },
     "metadata": {},
     "output_type": "display_data"
    }
   ],
   "source": [
    "X_set = test_data[0]\n",
    "number = np.random.randint(len(X_set[0]))\n",
    "print(number)\n",
    "for n in range(number, number+1):\n",
    "    fig, axes = plt.subplots(2,2, figsize=(10,6))\n",
    "    for idx, i in enumerate(range(n,n+2)):\n",
    "        axes[0,idx].imshow(X_set[0][i].reshape(14,28))\n",
    "        axes[1,idx].imshow(X_set[1][i].reshape(14,28))\n",
    "        axes[0,idx].axis('off')\n",
    "        axes[1,idx].axis('off')\n",
    "\n",
    "plt.tight_layout()\n",
    "plt.show()"
   ]
  },
  {
   "cell_type": "code",
   "execution_count": 13,
   "metadata": {},
   "outputs": [],
   "source": [
    "train_set, test_set = filter_data(train_set_raw, test_set_raw, 3,8)\n",
    "train_data = mnist_2_views_maker(train_set, 3, 8)\n",
    "test_data = mnist_2_views_maker(test_set, 3, 8)\n"
   ]
  },
  {
   "cell_type": "code",
   "execution_count": 14,
   "metadata": {},
   "outputs": [],
   "source": [
    "# train, val, test split\n",
    "tr_X_set, tr_y = train_data[0], train_data[1]\n",
    "te_X_set, te_y = test_data[0], test_data[1]\n",
    "n = len(tr_X_set[1])\n",
    "train_indices, val_indices = train_test_split(np.arange(n), test_size=0.2, random_state=0)\n",
    "va_X_set, va_y = [X[val_indices] for X in tr_X_set], tr_y[val_indices]\n",
    "tr_X_set, tr_y = [X[train_indices] for X in tr_X_set], tr_y[train_indices]"
   ]
  },
  {
   "cell_type": "code",
   "execution_count": 15,
   "metadata": {},
   "outputs": [],
   "source": [
    "# scaling\n",
    "scaled_tr_X_set, scalers = [], []\n",
    "for i, view_data in enumerate(tr_X_set):\n",
    "    scaler = StandardScaler()\n",
    "    scaled_data = scaler.fit_transform(view_data)\n",
    "    scaled_tr_X_set.append(scaled_data)\n",
    "    scalers.append(scaler)\n",
    "scaled_va_X_set = [scalers[i].transform(va_X_set[i]) for i in range(len(va_X_set))]\n",
    "scaled_te_X_set = [scalers[i].transform(te_X_set[i]) for i in range(len(te_X_set))]\n",
    "\n",
    "tr_X_set, va_X_set, te_X_set = scaled_tr_X_set.copy(), scaled_va_X_set.copy(), scaled_te_X_set.copy()\n",
    "        "
   ]
  },
  {
   "cell_type": "code",
   "execution_count": 16,
   "metadata": {},
   "outputs": [],
   "source": [
    "\n",
    "class SimpleDataset(Dataset) :\n",
    "    def __init__(self, data_set, y, device) :\n",
    "        self.data_set = [torch.tensor(data, dtype=torch.float32).to(device) for data in data_set]\n",
    "        self.y = torch.tensor(y).squeeze().long().to(device)\n",
    "        self.device = device\n",
    "        \n",
    "    def __len__(self) :\n",
    "        return len(self.data_set[0])\n",
    "    \n",
    "    def __getitem__(self, i) :\n",
    "        xs = [data[i] for data in self.data_set]\n",
    "        y = self.y[i]\n",
    "        return (xs, y)"
   ]
  },
  {
   "cell_type": "code",
   "execution_count": 17,
   "metadata": {},
   "outputs": [],
   "source": [
    "train_data = SimpleDataset(tr_X_set, tr_y, device=device)\n",
    "trainloader = DataLoader(train_data, batch_size=config['batch_size'], drop_last=True)"
   ]
  },
  {
   "cell_type": "markdown",
   "metadata": {},
   "source": [
    "# MODEL "
   ]
  },
  {
   "cell_type": "markdown",
   "metadata": {},
   "source": [
    "## Modules"
   ]
  },
  {
   "cell_type": "code",
   "execution_count": 18,
   "metadata": {},
   "outputs": [],
   "source": [
    "class Selector(nn.Module):\n",
    "    \"\"\"Stochastic gate to discover selected features \n",
    "    \n",
    "    Args:\n",
    "        input_dim : dimension of input features\n",
    "        sigma : constant for gaussian distribution\n",
    "        device : device for the tensors to be created \n",
    "    \"\"\"\n",
    "    def __init__(self, input_dim, sigma=0.5, mean=0.5) -> None:\n",
    "        super(Selector, self).__init__()\n",
    "        self.mean = mean # 0.5\n",
    "        self.mu = 0.01*torch.randn(input_dim,)\n",
    "        self.mu = torch.nn.Parameter(self.mu, requires_grad=True)\n",
    "        self.sigma = sigma\n",
    "    \n",
    "    def forward(self, prev_v, X_mean) -> None: \n",
    "\n",
    "        self.noise = torch.randn(prev_v.size()).to(self.mu.device)\n",
    "        z = self.mu + self.sigma*self.noise.normal_()*self.training # noise normal_ ~N(0,1)\n",
    "        self.z = z  # save z for the same noise\n",
    "        stochastic_gate = self.hard_sigmoid(self.z)\n",
    "        new_v = prev_v*stochastic_gate + X_mean*(1-stochastic_gate)\n",
    "        return new_v\n",
    "    \n",
    "    def hard_sigmoid(self, v):\n",
    "        return torch.clamp(v + self.mean, 0.0, 1.0)\n",
    "    \n",
    "    def regularizer(self, v):\n",
    "        #guassian CDF\n",
    "        return 0.5*(1 + torch.erf(v/math.sqrt(2)))\n",
    "    \n",
    "    def get_gates(self, mode='prob') :\n",
    "        if mode == 'raw':\n",
    "            return self.mu.detach().cpu().numpy()\n",
    "        elif mode == 'prob':\n",
    "            return np.minimum(1.0, np.maximum(0.0, self.mu.detach().cpu().numpy()+self.mean))\n",
    "        "
   ]
  },
  {
   "cell_type": "code",
   "execution_count": 19,
   "metadata": {},
   "outputs": [],
   "source": [
    "class MLP(nn.Module):\n",
    "    def __init__(self, input_dim , hidden_dims, output_dim=2, batch_norm=True, dropout=True, activation='relu'):\n",
    "        super(MLP, self).__init__()\n",
    "        modules = self.build_layers(input_dim, hidden_dims, output_dim, batch_norm, dropout, activation)\n",
    "        self.layers = nn.Sequential(*modules)\n",
    "        \n",
    "    def base_layer(self, in_features, out_features , batch_norm, dropout, activation):\n",
    "        modules = [nn.Linear(in_features, out_features, bias=True)]\n",
    "        if batch_norm : \n",
    "            modules.append(nn.BatchNorm1d(out_features))\n",
    "        if dropout : \n",
    "            modules.append(nn.Dropout(0.5, True))\n",
    "        if activation :\n",
    "            modules.append(nn.ReLU(True))\n",
    "        layer = nn.Sequential(*modules)\n",
    "        return layer\n",
    "    \n",
    "    def build_layers(self, input_dim, hidden_dims, output_dim, batch_norm, dropout, activation) :\n",
    "        dims = [input_dim]\n",
    "        dims.extend(hidden_dims)\n",
    "        dims.append(output_dim)\n",
    "        nr_hiddens = len(hidden_dims)\n",
    "        modules = []\n",
    "        for i in range(nr_hiddens) :\n",
    "            layer = self.base_layer(dims[i], dims[i+1], batch_norm, dropout, activation)\n",
    "            modules.append(layer)\n",
    "        layer = nn.Linear(dims[-2], dims[-1], bias=True)\n",
    "        modules.append(layer)\n",
    "        return modules\n",
    "        \n",
    "    def reset_parameters(self):\n",
    "        for module in self.modules():\n",
    "            if isinstance(module, nn.Linear):\n",
    "                module.reset_parameters()\n",
    "                \n",
    "    def forward(self, input):\n",
    "        out = self.layers(input)\n",
    "        return out "
   ]
  },
  {
   "cell_type": "code",
   "execution_count": 20,
   "metadata": {},
   "outputs": [],
   "source": [
    "class Model(nn.Module):\n",
    "    def __init__(self, config):\n",
    "        super(Model, self).__init__()\n",
    "        self.s_selectors = nn.ModuleList()\n",
    "        self.views_dims = config['views_dims']\n",
    "        num_views = len(self.views_dims)\n",
    "        for i in range(num_views):\n",
    "            v_dim = self.views_dims[i]\n",
    "            s_selector = Selector(v_dim)\n",
    "            self.s_selectors.append(s_selector)\n",
    "            setattr(self, f's_selector_{i}', s_selector)\n",
    "\n",
    "        self.shared_predictor = MLP(sum(config['views_dims']), config['hidden_dims'],\n",
    "                                )"
   ]
  },
  {
   "cell_type": "code",
   "execution_count": 21,
   "metadata": {},
   "outputs": [],
   "source": [
    "def _standard_truncnorm_sample(lower_bound, upper_bound, sample_shape=torch.Size()):\n",
    "    r\"\"\"\n",
    "    Weight initialization usggested in STG\n",
    "    \"\"\"\n",
    "    x = torch.randn(sample_shape)\n",
    "    done = torch.zeros(sample_shape).byte()\n",
    "    while not done.all():\n",
    "        proposed_x = lower_bound + torch.rand(sample_shape) * (upper_bound - lower_bound)\n",
    "        if (upper_bound * lower_bound).lt(0.0):  # of opposite sign\n",
    "            log_prob_accept = -0.5 * proposed_x**2\n",
    "        elif upper_bound < 0.0:  # both negative\n",
    "            log_prob_accept = 0.5 * (upper_bound**2 - proposed_x**2)\n",
    "        else:  # both positive\n",
    "            assert(lower_bound.gt(0.0))\n",
    "            log_prob_accept = 0.5 * (lower_bound**2 - proposed_x**2)\n",
    "        prob_accept = torch.exp(log_prob_accept).clamp_(0.0, 1.0) #inplace\n",
    "        accept = torch.bernoulli(prob_accept).byte() & ~done # return the prob_accept shape matrix where done is 0 \n",
    "        if accept.any():\n",
    "            accept = accept.bool()\n",
    "            x[accept] = proposed_x[accept]\n",
    "            accept = accept.byte()\n",
    "            done |= accept # |=, in-place bitwise OR operator to done \n",
    "    return x"
   ]
  },
  {
   "cell_type": "markdown",
   "metadata": {},
   "source": [
    "## SynFS"
   ]
  },
  {
   "cell_type": "code",
   "execution_count": 22,
   "metadata": {},
   "outputs": [],
   "source": [
    "class SynFS(object):\n",
    "    def __init__(self, config):\n",
    "        \"\"\"\n",
    "        construct \n",
    "        s_model : a set of synergistic selector + predictor\n",
    "        n_model : a set of non-synergistic selecotr + predictor\n",
    "        inf_model : predictor\n",
    "        \"\"\"\n",
    "        \n",
    "        self.config = config\n",
    "        self.batch_size = self.config['batch_size']\n",
    "        self.device = self.get_device()\n",
    "        self.loss = nn.CrossEntropyLoss(reduction='none')\n",
    "        self.cos_loss = nn.CosineSimilarity(dim=0)\n",
    "\n",
    "        self.s_model = Model(config)\n",
    "        self.s_model.apply(self.init_weights)\n",
    "        self.s_model.to(self.device)\n",
    "\n",
    "        self.n_model = Model(config)\n",
    "        self.n_model.apply(self.init_weights)\n",
    "        self.n_model.to(self.device)\n",
    "        \n",
    "        self.inf_model = MLP(sum(config['views_dims']), config['hidden_dims'])\n",
    "        self.inf_model.apply(self.init_weights)\n",
    "        self.inf_model.to(self.device)\n",
    "        \n",
    "        self.sp_params = list(self.s_model.shared_predictor.parameters()) \n",
    "        self.np_params = list(self.n_model.shared_predictor.parameters()) \n",
    "\n",
    "        self.s_params = [p for selector in self.s_model.s_selectors for p in selector.parameters()] \n",
    "        self.n_params = [p for selector in self.n_model.s_selectors for p in selector.parameters()] \n",
    "        \n",
    "        self.p_opt = torch.optim.Adam(self.sp_params+self.np_params, \n",
    "                                      lr=config['learning_rate'], \n",
    "                                      weight_decay=config['weight_decay']) # \n",
    "        self.synergy_opt = torch.optim.Adam(self.s_params, lr=config['s_learning_rate'])# list of optimizers\n",
    "        self.nsynergy_opt = torch.optim.Adam(self.n_params, lr=config['s_learning_rate'])\n",
    "        self.inf_opt = torch.optim.Adam(self.s_params + self.n_params + list(self.inf_model.parameters()),\n",
    "                                            lr=config['learning_rate'], \n",
    "                                            weight_decay=config['weight_decay'])\n",
    "    def get_device(self):\n",
    "        device = 'cuda' if torch.cuda.is_available() else 'cpu'\n",
    "        return device\n",
    "    \n",
    "    def init_weights(self, m):\n",
    "        if isinstance(m, nn.Linear):\n",
    "            stddev = torch.tensor(0.1)\n",
    "            shape = m.weight.shape\n",
    "            m.weight = nn.Parameter(_standard_truncnorm_sample(lower_bound = -2*stddev, upper_bound = 2 * stddev, sample_shape = shape))\n",
    "            torch.nn.init.zeros_(m.bias)\n",
    "    \n",
    "    def get_reg(self, selector):\n",
    "        reg = selector.regularizer\n",
    "        #reg = reg((selector.mu + selector.mean) / selector.sigma) #cdf\n",
    "        reg = torch.mean(reg(selector.mu / selector.sigma))\n",
    "        return reg\n",
    "    \n",
    "    def get_gates(self, model):\n",
    "        S = [selector.hard_sigmoid(selector.mu.detach()) for selector in model.s_selectors]\n",
    "        return S\n",
    "\n",
    "    def mask_generator(self, batch_size=None):\n",
    "        \"\"\"\n",
    "        Generate mask to use shared predictor with V marginal selectors\n",
    "        \"\"\"\n",
    "        #generating mask for latent space\n",
    "        # return a list of masks for each view \n",
    "        if batch_size is None:\n",
    "            batch_size = self.config['batch_size']\n",
    "        masks = []\n",
    "        view_sum = sum(self.config['views_dims'])\n",
    "        cumsum = np.cumsum(self.config['views_dims'])\n",
    "        blank_mask = torch.zeros(batch_size, view_sum, device=self.device)\n",
    "        for v in range(len(self.config['views_dims'])):\n",
    "            v_mask = blank_mask.clone()\n",
    "            if v == 0 :\n",
    "                v_mask[:, :cumsum[v]] = 1\n",
    "            else:\n",
    "                v_mask[:, cumsum[v-1]:cumsum[v]] = 1\n",
    "            masks.append(v_mask)\n",
    "        return masks\n",
    "    \n",
    "    def simple_forward(self, model, S, views, X_mean_set):\n",
    "        \"\"\"\n",
    "        simple forward to get P(Y|X_g_s) or P(Y|X_g_n)\n",
    "        \"\"\"\n",
    "        masks = self.mask_generator(batch_size=views[0].shape[0])\n",
    "        s_z = [S[i]*views[i]+(1-S[i])*X_mean_set[i] for i in range(len(views))]\n",
    "        logits = []\n",
    "        for v in range(len(self.config['views_dims'])):\n",
    "            logit = model.shared_predictor(torch.cat(s_z, dim=1)*masks[v])\n",
    "            logits.append(logit)\n",
    "        bar_logit = model.shared_predictor(torch.cat(s_z, dim=1))\n",
    "        logits.append(bar_logit)\n",
    "        return logits \n",
    "\n",
    "    def train_step(self, data, X_mean_set):\n",
    "        \n",
    "        \"\"\"\"\n",
    "        Train Predictor -> synergistic selector -> non-syergistic selector\n",
    "        only corresponding weights specified for the loss are updated \n",
    "        \n",
    "        \"\"\"\n",
    "        self.s_model.train()\n",
    "        self.s_model.train()\n",
    "        self.inf_model.train()\n",
    "        \n",
    "        views, y = data[:-1][0], data[-1]\n",
    "        masks = self.mask_generator()\n",
    "        \n",
    "        # new v \n",
    "        v_s = [selector(views[i], X_mean_set[i]) for i, selector in enumerate(self.s_model.s_selectors)] \n",
    "        v_n = [selector(views[i], X_mean_set[i]) for i, selector in enumerate(self.n_model.s_selectors)]\n",
    "        z_s = [selector.z for selector in self.s_model.s_selectors]\n",
    "        z_n = [selector.z for selector in self.n_model.s_selectors]\n",
    "        \n",
    "        ###############################\n",
    "        ###        Predictor       ###\n",
    "        ###############################\n",
    "        # with the same noise as with selectors  \n",
    "        #  non-synergic\n",
    "        \n",
    "        n_logits, s_logits = [], []\n",
    "        for v in range(len(self.config['views_dims'])):\n",
    "            logit = self.n_model.shared_predictor(torch.cat(v_n, dim=1)*masks[v])\n",
    "            n_logits.append(logit)\n",
    "        n_v_bar_logits = self.n_model.shared_predictor(torch.cat(v_n, dim=1))\n",
    "        n_logits.append(n_v_bar_logits)\n",
    "        #  synergic\n",
    "        for v in range(len(self.config['views_dims'])):\n",
    "            logit = self.s_model.shared_predictor(torch.cat(v_s, dim=1)*masks[v])\n",
    "            s_logits.append(logit)\n",
    "        s_v_bar_logits = self.s_model.shared_predictor(torch.cat(v_s, dim=1))\n",
    "        s_logits.append(s_v_bar_logits)\n",
    "        \n",
    "        n_losses = [self.loss(logit, y) for logit in n_logits]\n",
    "        s_losses = [self.loss(logit, y) for logit in s_logits]\n",
    "        p_loss = torch.mean(torch.sum(torch.stack(n_losses+s_losses, dim=1), dim=1))\n",
    "\n",
    "        self.p_opt.zero_grad() \n",
    "        p_loss.backward(retain_graph=True) # s_selector, n_selector, predictors \n",
    "        self.p_opt.step()  # update predictors\n",
    "        \n",
    "        #####################################\n",
    "        ###   Synergic Selector and Inf   ###\n",
    "        #####################################\n",
    "        \n",
    "        n_logits, s_logits = [], []\n",
    "        # informative gate (max(synergic gate , non-synergic gate))\n",
    "        all_gates = [self.s_model.s_selectors[0].hard_sigmoid(torch.max(s, n)) for s, n in zip(z_s, z_n)]  # with noise\n",
    "        all_v = [views[i]*gate + X_mean_set[i]*(1-gate) for i, gate in enumerate(all_gates)]\n",
    "        gate_s, gate_n = [self.s_model.s_selectors[0].hard_sigmoid(s) for s in z_s], [self.s_model.s_selectors[0].hard_sigmoid(n) for n in z_n] \n",
    "        s_regs =[self.get_reg(selector) for selector in self.s_model.s_selectors]\n",
    "        \n",
    "        all_bar_logits = self.inf_model(torch.cat(all_v, dim=1))\n",
    "        all_bar_loss = self.loss(all_bar_logits, y)\n",
    "\n",
    "        for v in range(len(self.config['views_dims'])):\n",
    "            logit = self.s_model.shared_predictor(torch.cat(v_s, dim=1)*masks[v])\n",
    "            s_logits.append(logit)\n",
    "        s_v_bar_logits = self.s_model.shared_predictor(torch.cat(v_s, dim=1))\n",
    "\n",
    "        s_losses = [self.loss(logit, y) for logit in s_logits]\n",
    "        s_v_bar_loss = self.loss(s_v_bar_logits, y)\n",
    "        inf_loss = torch.mean(all_bar_loss) \n",
    "        \n",
    "        synergy_loss = torch.mean(s_v_bar_loss - torch.sum(torch.stack(s_losses, dim=1), dim=1) \\\n",
    "                                + self.config['s_lam']*torch.mean(torch.stack(s_regs)) \\\n",
    "                                )\n",
    "\n",
    "        self.inf_opt.zero_grad()\n",
    "        self.synergy_opt.zero_grad()\n",
    "        inf_loss.backward(retain_graph=True) #s selecotr, n selector, ai predictor \n",
    "        synergy_loss.backward() # s selector, predictors \n",
    "\n",
    "        self.inf_opt.step()  \n",
    "        self.synergy_opt.step()\n",
    "        \n",
    "        ##########################\n",
    "        ###   Non-syneristic   ###\n",
    "        ##########################\n",
    "\n",
    "        sim = torch.nn.functional.cosine_similarity(torch.cat(gate_s, dim=1), torch.cat(gate_n, dim=1), dim=1) #(batch, alldim)\n",
    "        ns_regs =[self.get_reg(selector) for selector in self.n_model.s_selectors]\n",
    "        \n",
    "        for v in range(len(self.config['views_dims'])):\n",
    "            logit = self.n_model.shared_predictor(torch.cat(v_n, dim=1)*masks[v])\n",
    "            n_logits.append(logit)\n",
    "        n_v_bar_logits = self.n_model.shared_predictor(torch.cat(v_n, dim=1))\n",
    "        \n",
    "        n_losses = [self.loss(logit, y) for logit in n_logits]\n",
    "        n_v_bar_loss = self.loss(n_v_bar_logits, y)\n",
    "\n",
    "        nsynergy_loss = torch.mean(-n_v_bar_loss + torch.sum(torch.stack(n_losses, dim=1), dim=1) \n",
    "                                   + self.config['n_lam']*torch.mean(torch.stack(ns_regs)) # same mu for all batch\n",
    "                                   + self.config['alpha']*sim \n",
    "                                   )\n",
    "        \n",
    "        self.nsynergy_opt.zero_grad()\n",
    "        nsynergy_loss.backward() # n selector, predcitor \n",
    "        self.nsynergy_opt.step()\n",
    "        \n",
    "        return synergy_loss, nsynergy_loss, inf_loss\n",
    "\n",
    "    def predict(self, views, te_X_set):\n",
    "        self.s_model.eval()\n",
    "        self.n_model.eval()\n",
    "        self.inf_model.eval()\n",
    "        \n",
    "        X_mean_set = [torch.mean(torch.Tensor(X).to(self.device), dim=0) for X in te_X_set] \n",
    "\n",
    "        with torch.no_grad():\n",
    "            S = self.get_gates(self.s_model)\n",
    "            NS = self.get_gates(self.s_model)\n",
    "            all_mu = [torch.max(s, ns) for s, ns in zip(S, NS)]\n",
    "            all_z = [all_mu[i]*views[i]+(1-all_mu[i])*X_mean_set[i] for i in range(len(views))]\n",
    "            all_bar_logits = self.inf_model(torch.cat(all_z, dim=1))\n",
    "        return all_bar_logits\n"
   ]
  },
  {
   "cell_type": "code",
   "execution_count": 23,
   "metadata": {},
   "outputs": [],
   "source": [
    "synfs = SynFS(config)\n",
    "X_mean_set = [torch.mean(torch.Tensor(X).to(device), dim=0) for X in tr_X_set]"
   ]
  },
  {
   "cell_type": "code",
   "execution_count": 24,
   "metadata": {},
   "outputs": [],
   "source": [
    "\n",
    "def highest_n_gates(gates, n=6): \n",
    "    #return gate with 6 hightest gate \n",
    "    n = 6\n",
    "    ai_gates_ = []\n",
    "    for gate in gates:\n",
    "        indices = np.argsort(gate)[-n:]\n",
    "        gate = np.zeros_like(gate)\n",
    "        gate[indices] = 1\n",
    "        ai_gates_.append(gate)\n",
    "        \n",
    "    return ai_gates_"
   ]
  },
  {
   "cell_type": "code",
   "execution_count": 25,
   "metadata": {},
   "outputs": [
    {
     "name": "stdout",
     "output_type": "stream",
     "text": [
      "===Synergistic gate Training===\n",
      "=====epoch 0 syn_loss -0.608=====\n",
      "predicted synergistic features\n",
      "[]\n",
      "predicted non-synergistic features\n",
      "[]\n",
      "=====epoch 30 syn_loss -0.592=====\n",
      "predicted synergistic features\n",
      "[190 218 242 272 299 301 328 509 536 537 565 593 650 651 652 653 654 655\n",
      " 664 678 680 681 682 683 709 710]\n",
      "predicted non-synergistic features\n",
      "[264 290 291 292 293 317 319 514 516 517]\n",
      "=====epoch 60 syn_loss -0.768=====\n",
      "predicted synergistic features\n",
      "[190 218 242 299 300 301 328 329 357 537 565 593 651 652 653 654 655 678\n",
      " 682 709 710]\n",
      "predicted non-synergistic features\n",
      "[264 290 292 293 294 317 319 344 460 485 512 514 516 517]\n",
      "=====epoch 90 syn_loss -0.804=====\n",
      "predicted synergistic features\n",
      "[181 190 213 214 218 299 300 301 357 537 651 652 654 678 709]\n",
      "predicted non-synergistic features\n",
      "[264 290 292 293 294 317 319 344 347 373 460 485 512 514 516 517 570]\n"
     ]
    }
   ],
   "source": [
    "print(\"===Synergistic gate Training===\")\n",
    "\n",
    "for epoch in range(config['epochs']):\n",
    "    syn_loss=0\n",
    "    for batch in trainloader:\n",
    "        synergy_loss, nsynergy_loss, inf_loss = synfs.train_step(batch, X_mean_set)\n",
    "        syn_loss +=synergy_loss\n",
    "    avg_syn_loss = syn_loss/len(trainloader)\n",
    "    if epoch % 30 == 0:\n",
    "        print(f'=====epoch {epoch} syn_loss {avg_syn_loss.item():.3f}=====')\n",
    "        print('predicted synergistic features')\n",
    "        print(np.where(np.concatenate([g.cpu().numpy() for g in synfs.get_gates(synfs.s_model)])>0.7)[0])\n",
    "        print('predicted non-synergistic features')\n",
    "        print(np.where(np.concatenate([g.cpu().numpy() for g in synfs.get_gates(synfs.n_model)])>0.7)[0])\n",
    "        \n"
   ]
  },
  {
   "cell_type": "code",
   "execution_count": 26,
   "metadata": {},
   "outputs": [],
   "source": [
    "# gate plot\n",
    "def get_gates(model, threshold=None):\n",
    "    # return list of view gates, concat of view gate \n",
    "    model_gate = synfs.get_gates(model)\n",
    "    if threshold is None:\n",
    "        gates = [gate.cpu().numpy() for gate in model_gate]\n",
    "    else:\n",
    "        gates = [np.where(gate.cpu().numpy()>threshold, 1, 0) for gate in model_gate]\n",
    "    a, b = gates\n",
    "    gate = np.concatenate([a,b])\n",
    "    return gates, gate \n"
   ]
  },
  {
   "cell_type": "code",
   "execution_count": 27,
   "metadata": {},
   "outputs": [],
   "source": [
    "s_gates, s_gate = get_gates(synfs.s_model)\n",
    "n_gates, n_gate = get_gates(synfs.n_model)"
   ]
  },
  {
   "cell_type": "code",
   "execution_count": 28,
   "metadata": {},
   "outputs": [
    {
     "data": {
      "image/png": "[encoded data removed]",
      "text/plain": [
       "<Figure size 640x480 with 2 Axes>"
      ]
     },
     "metadata": {},
     "output_type": "display_data"
    }
   ],
   "source": [
    "fig, axes = plt.subplots(2,1)\n",
    "axes[0].set_title(f\"synergic features original plot\")\n",
    "axes[0].xaxis.set_visible(False)\n",
    "axes[0].yaxis.set_visible(False)\n",
    "axes[1].xaxis.set_visible(False)\n",
    "axes[1].yaxis.set_visible(False)\n",
    "axes[0].imshow(s_gates[0].reshape(14,28), cmap='gray');\n",
    "axes[1].imshow(s_gates[1].reshape(14,28), cmap='gray');\n"
   ]
  },
  {
   "cell_type": "code",
   "execution_count": 29,
   "metadata": {},
   "outputs": [
    {
     "data": {
      "image/png": "[encoded data removed]",
      "text/plain": [
       "<Figure size 640x480 with 2 Axes>"
      ]
     },
     "metadata": {},
     "output_type": "display_data"
    }
   ],
   "source": [
    "n = 6\n",
    "s_gates_ = highest_n_gates(s_gates, n)\n",
    "fig, axes = plt.subplots(2,1)\n",
    "axes[0].set_title(f\"synergic features highest {n} plot\")\n",
    "axes[0].xaxis.set_visible(False)\n",
    "axes[0].yaxis.set_visible(False)\n",
    "axes[1].xaxis.set_visible(False)\n",
    "axes[1].yaxis.set_visible(False)\n",
    "axes[0].imshow(s_gates_[0].reshape(14,28), cmap='gray');\n",
    "axes[1].imshow(s_gates_[1].reshape(14,28), cmap='gray');"
   ]
  },
  {
   "cell_type": "code",
   "execution_count": 30,
   "metadata": {},
   "outputs": [
    {
     "data": {
      "image/png": "[encoded data removed]",
      "text/plain": [
       "<Figure size 640x480 with 2 Axes>"
      ]
     },
     "metadata": {},
     "output_type": "display_data"
    }
   ],
   "source": [
    "fig, axes = plt.subplots(2,1)\n",
    "axes[0].set_title(f\"synergic features >0.7 plot\")\n",
    "axes[0].axis('off')      \n",
    "axes[1].axis('off')  \n",
    "axes[0].imshow(np.where(s_gates[0]>0.7, 1, 0).reshape(14,28), cmap='gray');\n",
    "axes[1].imshow(np.where(s_gates[1]>0.7, 1, 0).reshape(14,28), cmap='gray');"
   ]
  },
  {
   "cell_type": "code",
   "execution_count": 31,
   "metadata": {},
   "outputs": [
    {
     "data": {
      "text/plain": [
       "array([181, 190, 213, 214, 218, 299, 301, 357])"
      ]
     },
     "execution_count": 31,
     "metadata": {},
     "output_type": "execute_result"
    }
   ],
   "source": [
    "np.where(s_gates[0]>0.7)[0]"
   ]
  },
  {
   "cell_type": "code",
   "execution_count": 32,
   "metadata": {},
   "outputs": [
    {
     "name": "stdout",
     "output_type": "stream",
     "text": [
      "556\n"
     ]
    },
    {
     "data": {
      "image/png": "[encoded data removed]",
      "text/plain": [
       "<Figure size 1000x600 with 4 Axes>"
      ]
     },
     "metadata": {},
     "output_type": "display_data"
    }
   ],
   "source": [
    "#number = 5052\n",
    "number = 556 #1626\n",
    "#number = np.random.randint(len(X_set[0]))\n",
    "print(number)\n",
    "\n",
    "fig, axes = plt.subplots(2,2, figsize=(10,6))\n",
    "s_gates_ = highest_n_gates(s_gates, top_k/2)\n",
    "for idx, i in enumerate(range(number, number+2)):\n",
    "    axes[0,idx].imshow(X_set[0][i].reshape(14,28), cmap='gray', alpha=0.5)\n",
    "    #axes[0,idx].imshow(np.where(s_gates[0]>0.7, 1, 0).reshape(14,28), cmap='cividis', alpha=0.5)\n",
    "    axes[0,idx].imshow(s_gates_[0].reshape(14,28), cmap='cividis', alpha=0.5)\n",
    "    axes[1,idx].imshow(X_set[1][i].reshape(14,28), cmap='gray', alpha=0.5)\n",
    "    #axes[1,idx].imshow(np.where(s_gates[1]>0.7, 1, 0).reshape(14,28), cmap='cividis', alpha=0.5)\n",
    "    axes[1,idx].imshow(s_gates_[1].reshape(14,28), cmap='cividis', alpha=0.5)\n",
    "    axes[0,idx].axis('off')      \n",
    "    axes[1,idx].axis('off')     \n",
    "plt.tight_layout()\n",
    "plt.show()"
   ]
  },
  {
   "cell_type": "code",
   "execution_count": 33,
   "metadata": {},
   "outputs": [
    {
     "data": {
      "image/png": "[encoded data removed]",
      "text/plain": [
       "<Figure size 640x480 with 2 Axes>"
      ]
     },
     "metadata": {},
     "output_type": "display_data"
    }
   ],
   "source": [
    "fig, axes = plt.subplots(2,1)\n",
    "axes[0].set_title(f\"non-synergistic features original plot\")\n",
    "axes[0].imshow(n_gates[0].reshape(14,28), cmap='gray');\n",
    "axes[1].imshow(n_gates[1].reshape(14,28), cmap='gray');\n",
    "axes[0].axis('off')\n",
    "axes[1].axis('off');"
   ]
  },
  {
   "cell_type": "code",
   "execution_count": 34,
   "metadata": {},
   "outputs": [
    {
     "data": {
      "image/png": "[encoded data removed]",
      "text/plain": [
       "<Figure size 640x480 with 2 Axes>"
      ]
     },
     "metadata": {},
     "output_type": "display_data"
    }
   ],
   "source": [
    "n = 6\n",
    "n_gates_ = highest_n_gates(n_gates, n)\n",
    "fig, axes = plt.subplots(2,1)\n",
    "axes[0].set_title(f\"non-synergistic features highest {n} plot\")\n",
    "axes[0].imshow(n_gates_[0].reshape(14,28), cmap='gray');\n",
    "axes[1].imshow(n_gates_[1].reshape(14,28), cmap='gray');\n",
    "axes[0].axis('off')\n",
    "axes[1].axis('off');"
   ]
  },
  {
   "cell_type": "code",
   "execution_count": 35,
   "metadata": {},
   "outputs": [
    {
     "name": "stdout",
     "output_type": "stream",
     "text": [
      "556\n"
     ]
    },
    {
     "data": {
      "image/png": "[encoded data removed]",
      "text/plain": [
       "<Figure size 1000x600 with 4 Axes>"
      ]
     },
     "metadata": {},
     "output_type": "display_data"
    }
   ],
   "source": [
    "number = 556\n",
    "#number = 5052\n",
    "#number = np.random.randint(len(X_set[0]))\n",
    "print(number)\n",
    "n_gates_ = highest_n_gates(n_gates, top_k/2)\n",
    "for n in range(number, number+1):\n",
    "    fig, axes = plt.subplots(2,2, figsize=(10,6))\n",
    "    for idx, i in enumerate(range(n, n+2)):\n",
    "        axes[0,idx].imshow(X_set[0][i].reshape(14,28), cmap='gray', alpha=0.5)\n",
    "        axes[0,idx].imshow(n_gates_[0].reshape(14,28), cmap='cividis', alpha=0.5)\n",
    "        axes[1,idx].imshow(X_set[1][i].reshape(14,28), cmap='gray', alpha=0.5)\n",
    "        axes[1,idx].imshow(n_gates_[1].reshape(14,28), cmap='cividis', alpha=0.5)\n",
    "        axes[0,idx].axis('off')      \n",
    "        axes[1,idx].axis('off')    \n",
    "\n",
    "plt.tight_layout()\n",
    "plt.show()"
   ]
  },
  {
   "cell_type": "code",
   "execution_count": 38,
   "metadata": {},
   "outputs": [],
   "source": [
    "# Test\n",
    "test_data = SimpleDataset(te_X_set, te_y, device='cuda')\n",
    "test_loader = DataLoader(test_data, batch_size=len(te_y))"
   ]
  },
  {
   "cell_type": "code",
   "execution_count": 39,
   "metadata": {},
   "outputs": [
    {
     "name": "stdout",
     "output_type": "stream",
     "text": [
      "auroc | 0.854, auprc | 0.864, accuracy | 0.725, f1 | 0.761\n"
     ]
    }
   ],
   "source": [
    "# all inf \n",
    "res = []\n",
    "for x, y in test_loader:\n",
    "    logits = synfs.predict(x, te_X_set)\n",
    "    res.append(logits.detach().cpu().numpy())\n",
    "logits = np.concatenate(res)\n",
    "        \n",
    "# Metric \n",
    "def np_softmax(target, all):\n",
    "    softmax = np.exp(target) / np.sum(np.exp(all) ,axis=1)\n",
    "    return softmax\n",
    "    \n",
    "threshold = np.sum(tr_y[tr_y==1])/ len(tr_y)\n",
    "threshold = threshold\n",
    "y_prob = np_softmax(logits[:,1], logits)\n",
    "y_pred = np.where(y_prob > threshold, 1, 0)\n",
    "\n",
    "auroc = roc_auc_score(te_y, logits[:,1])\n",
    "auprc = average_precision_score(te_y, logits[:,1])\n",
    "accuracy = accuracy_score(te_y, y_pred)\n",
    "f1 = f1_score(te_y, y_pred)\n",
    "print(f\"auroc | {auroc.item():.3f}, auprc | {auprc.item():.3f}, accuracy | {accuracy.item():.3f}, f1 | {f1.item():.3f}\")\n",
    "\n"
   ]
  }
 ],
 "metadata": {
  "kernelspec": {
   "display_name": "synergy",
   "language": "python",
   "name": "synergy"
  },
  "language_info": {
   "codemirror_mode": {
    "name": "ipython",
    "version": 3
   },
   "file_extension": ".py",
   "mimetype": "text/x-python",
   "name": "python",
   "nbconvert_exporter": "python",
   "pygments_lexer": "ipython3",
   "version": "3.9.7"
  },
  "orig_nbformat": 4
 },
 "nbformat": 4,
 "nbformat_minor": 2
}
